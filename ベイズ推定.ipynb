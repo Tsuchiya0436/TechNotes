{
 "cells": [
  {
   "cell_type": "markdown",
   "metadata": {},
   "source": [
    "# ベイズ推定　まとめ"
   ]
  },
  {
   "cell_type": "markdown",
   "metadata": {},
   "source": [
    "## ベイズの定理とは\n",
    "ベイズの定理は、ある事象が起こった時に、その事象の裏にある原因の確率を更新する方法を示すもの。  \n",
    "\n",
    "事象Aが起こるという条件の下で、事象B<sub>i</sub>が起こる条件付き確率P(B<sub>i</sub>|A)は次の式から求められる。  \n",
    "\n",
    "$ \\displaystyle P(B_i|A) = \\frac{P(A∩B_i)}{P(A)} $ ・・・(1)\n",
    "\n",
    "(1)に乗法定理を代入したものを、ベイズの定理とする。\n",
    "\n",
    "$ \\displaystyle P(B_i|A) = \\frac{P(A|B_i)P(B_i)}{P(A)} $ ・・・(2)\n",
    "\n",
    "### 各項の意味\n",
    "- $P(B_i|A)$ (事後確率) : 観測データAを基にしたパラメータ $B_i$ の確率分布で、推定したいパラメータ確率となる。  \n",
    "- $P(A|B_i)$ (尤度) : パラメータ $B_i$ が与えられたときにデータAが観測される確率で、データのフィット具合を表すもので尤度関数とも呼ばれる。\n",
    "- $P(B_i)$ (事前確率) : 観測データを得る前の、パラメータ $B_i$に対する事前の仮定(予測)。これがベイズ推定の特徴で、事前の知識を反映する部分。\n",
    "- $P(A)$ (正規化項) : データAが観測される確率で、全体の確率を1に正規化するための項。通常は定数なので、実際の推定には直接関与しないことが多い。"
   ]
  },
  {
   "cell_type": "markdown",
   "metadata": {},
   "source": [
    "### ベイズの定理の役割\n",
    "ベイズの定理は観測データAが得られたときに、それに基づいてパラメータ$B_i$の確率分布を更新する手段を提供するもの。  \n",
    "これは「事前の予測を事後の予測に更新する」という役割がある。\n",
    "\n",
    "例えば、次の日の天気予測を考えてみる。  \n",
    "次の日の天気がBである確率(事前確率P(B))があって、現在の天気の結果Aを観測したとする。  \n",
    "その結果に基づいて次の日の天気がBである可能性(事後確率P(B|A))を更新する。  \n",
    "これがベイズ推定の基本的なアイデアとなる。"
   ]
  },
  {
   "cell_type": "markdown",
   "metadata": {},
   "source": [
    "### 変形\n",
    "$ P(A) = P(A∩B_1) + P(A∩B_2) + P(A∩B_3) ... + P(A∩B_k) $と表せ、これを(2)に代入すると\n",
    "\n",
    "$ \\displaystyle P(B_i|A) = \\frac{P(A|B_i)P(B_i)}{P(A)} = \\frac{P(A|B_i)P(B_i)}{P(A∩B_1) + P(A∩B_2) + ... + P(A∩B_k)} $ ・・・(3)\n",
    "\n",
    "(3)にも乗法定理を適用すると、次の式が導かれる\n",
    "\n",
    "$ \\displaystyle P(B_i|A) = \\frac{P(A|B_i)P(B_i)}{P(A∩B_1) + P(A∩B_2) + ... + P(A∩B_k)} = \\frac{P(A|B_i)P(B_i)}{\\sum^{k}_{j=1}P(B_j)P(A|B_j)} $"
   ]
  },
  {
   "cell_type": "markdown",
   "metadata": {},
   "source": [
    "### 乗法定理とは\n",
    "\n",
    "事象Bが起こるという条件の下で、事象Aが起こる条件付き確率P(A|B)は次の式から求められる。\n",
    "\n",
    "$ \\displaystyle P(A|B) = \\frac{P(A∩B)}{P(B)} $\n",
    "\n",
    "この条件付確率の式の両辺にP(B)をかけて次のように変形したものを**乗法定理**と呼ぶ。\n",
    "\n",
    "$ \\displaystyle P(A∩B) = P(B) × P(A|B) $\n",
    "\n",
    "あるいはAとBを入れ替えて、次のようにすることも可能。\n",
    "\n",
    "$ \\displaystyle P(A∩B) = P(A) × P(B|A) $\n"
   ]
  }
 ],
 "metadata": {
  "kernelspec": {
   "display_name": "base",
   "language": "python",
   "name": "python3"
  },
  "language_info": {
   "codemirror_mode": {
    "name": "ipython",
    "version": 3
   },
   "file_extension": ".py",
   "mimetype": "text/x-python",
   "name": "python",
   "nbconvert_exporter": "python",
   "pygments_lexer": "ipython3",
   "version": "3.11.7"
  }
 },
 "nbformat": 4,
 "nbformat_minor": 2
}
